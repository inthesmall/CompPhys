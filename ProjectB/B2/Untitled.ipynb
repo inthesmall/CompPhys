{
 "cells": [
  {
   "cell_type": "code",
   "execution_count": 87,
   "metadata": {},
   "outputs": [],
   "source": [
    "import numpy as np\n",
    "h=0.1\n",
    "a=np.array([1,20,1,20,1,20,1,20,1,20])\n",
    "a=a/sum(a)"
   ]
  },
  {
   "cell_type": "code",
   "execution_count": 88,
   "metadata": {},
   "outputs": [
    {
     "name": "stdout",
     "output_type": "stream",
     "text": [
      "0.173811154006\n"
     ]
    }
   ],
   "source": [
    "c=np.cumsum(a)\n",
    "n=np.argwhere(c>np.random.random())[0,0]\n",
    "print(h*n+h*np.random.random())"
   ]
  },
  {
   "cell_type": "code",
   "execution_count": 89,
   "metadata": {},
   "outputs": [
    {
     "name": "stdout",
     "output_type": "stream",
     "text": [
      "[ 0.00952381  0.2         0.20952381  0.4         0.40952381  0.6\n",
      "  0.60952381  0.8         0.80952381  1.        ]\n",
      "[ 0.00952381  0.19047619  0.00952381  0.19047619  0.00952381  0.19047619\n",
      "  0.00952381  0.19047619  0.00952381  0.19047619]\n",
      "1\n"
     ]
    }
   ],
   "source": [
    "print(c)\n",
    "print(a)\n",
    "print(n)"
   ]
  },
  {
   "cell_type": "code",
   "execution_count": 102,
   "metadata": {},
   "outputs": [],
   "source": [
    "xs=[] \n",
    "for i in range(5000):\n",
    "    n=np.argwhere(c>np.random.random())[0,0]\n",
    "    x=h*n+h*np.random.random()\n",
    "    xs.append(x)"
   ]
  },
  {
   "cell_type": "code",
   "execution_count": 103,
   "metadata": {},
   "outputs": [
    {
     "data": {
      "image/png": "[encoded data removed]",
      "text/plain": [
       "<matplotlib.figure.Figure at 0x11183dd68>"
      ]
     },
     "metadata": {},
     "output_type": "display_data"
    }
   ],
   "source": [
    "import matplotlib.pyplot as plt\n",
    "plt.hist(xs)\n",
    "plt.show()"
   ]
  },
  {
   "cell_type": "code",
   "execution_count": 105,
   "metadata": {},
   "outputs": [
    {
     "data": {
      "text/plain": [
       "7"
      ]
     },
     "execution_count": 105,
     "metadata": {},
     "output_type": "execute_result"
    }
   ],
   "source": [
    "import math\n",
    "bin = math.floor(x/h)\n",
    "factor = y/mean - 1\n",
    "factors[bin] += factor\n"
   ]
  },
  {
   "cell_type": "code",
   "execution_count": null,
   "metadata": {},
   "outputs": [],
   "source": [
    "factors/=sum(abs(factors))\n",
    "factors+=1\n",
    "weights *= factors"
   ]
  },
  {
   "cell_type": "code",
   "execution_count": 147,
   "metadata": {
    "collapsed": true
   },
   "outputs": [],
   "source": [
    "def make_rand(weights, h):\n",
    "        weights = np.array(weights)\n",
    "        weights =weights/ sum(weights)\n",
    "        cumul = np.cumsum(weights)\n",
    "        def rand(n=1):\n",
    "            xs = []\n",
    "            for i in range(n):\n",
    "                bin_ = np.argwhere(cumul > np.random.random())[0, 0]\n",
    "                xs.append(h * bin_ + h * np.random.random())\n",
    "                \n",
    "            return xs\n",
    "        return rand"
   ]
  },
  {
   "cell_type": "code",
   "execution_count": 148,
   "metadata": {
    "collapsed": true
   },
   "outputs": [],
   "source": [
    "r=make_rand([4,7,3,7,3,6,4,2,7,2], 0.1)"
   ]
  },
  {
   "cell_type": "code",
   "execution_count": 149,
   "metadata": {},
   "outputs": [
    {
     "data": {
      "image/png": "[encoded data removed]",
      "text/plain": [
       "<matplotlib.figure.Figure at 0x106e79160>"
      ]
     },
     "metadata": {},
     "output_type": "display_data"
    }
   ],
   "source": [
    "plt.hist(r(50000), bins=10)\n",
    "plt.show()"
   ]
  },
  {
   "cell_type": "code",
   "execution_count": 150,
   "metadata": {},
   "outputs": [
    {
     "name": "stdout",
     "output_type": "stream",
     "text": [
      "118 ms ± 1.36 ms per loop (mean ± std. dev. of 7 runs, 10 loops each)\n"
     ]
    }
   ],
   "source": [
    "%timeit r(10000)"
   ]
  },
  {
   "cell_type": "code",
   "execution_count": 151,
   "metadata": {
    "collapsed": true
   },
   "outputs": [],
   "source": [
    "lprun -f r r(10000)"
   ]
  },
  {
   "cell_type": "code",
   "execution_count": 153,
   "metadata": {},
   "outputs": [
    {
     "name": "stdout",
     "output_type": "stream",
     "text": [
      "113 µs ± 1.55 µs per loop (mean ± std. dev. of 7 runs, 10000 loops each)\n"
     ]
    }
   ],
   "source": [
    "timeit np.random.random(10000)"
   ]
  },
  {
   "cell_type": "code",
   "execution_count": null,
   "metadata": {
    "collapsed": true
   },
   "outputs": [],
   "source": []
  }
 ],
 "metadata": {
  "kernelspec": {
   "display_name": "Python 3",
   "language": "python",
   "name": "python3"
  },
  "language_info": {
   "codemirror_mode": {
    "name": "ipython",
    "version": 3
   },
   "file_extension": ".py",
   "mimetype": "text/x-python",
   "name": "python",
   "nbconvert_exporter": "python",
   "pygments_lexer": "ipython3",
   "version": "3.6.3"
  }
 },
 "nbformat": 4,
 "nbformat_minor": 2
}
